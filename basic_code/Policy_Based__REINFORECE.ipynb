{
 "cells": [
  {
   "cell_type": "code",
   "execution_count": 1,
   "id": "6cf7eb12",
   "metadata": {},
   "outputs": [],
   "source": [
    "import gym\n",
    "import torch\n",
    "import torch.nn as nn\n",
    "import torch.nn.functional as F\n",
    "import torch.optim as optim\n",
    "from torch.distributions import Categorical"
   ]
  },
  {
   "cell_type": "code",
   "execution_count": 2,
   "id": "4f62d208",
   "metadata": {},
   "outputs": [],
   "source": [
    "#Hyperparameters\n",
    "learning_rate = 0.0002\n",
    "gamma         = 0.98"
   ]
  },
  {
   "cell_type": "code",
   "execution_count": 3,
   "id": "880ca30c",
   "metadata": {},
   "outputs": [],
   "source": [
    "# .REINFORCE 알고리즘을 사용해 에이전트를 학습시키는 class\n",
    "class Policy(nn.Module): \n",
    "    def __init__(self):\n",
    "        super(Policy, self).__init__()\n",
    "        self.data = []\n",
    "        \n",
    "        self.fc1 = nn.Linear(4, 128) # 입력 크기 4, 출력크기 128인 완전 연결층\n",
    "        self.fc2 = nn.Linear(128, 2) # 입력 크기 128, 출력 크기 2인 완전 연결층\n",
    "        self.optimizer = optim.Adam(self.parameters(), lr=learning_rate)# Adam을 사용하여 parameter 최적화\n",
    "        \n",
    "    def forward(self, x): #순전파 연산 정의\n",
    "        x = F.relu(self.fc1(x))\n",
    "        x = F.softmax(self.fc2(x), dim=0)\n",
    "        return x #확률 분포 반환\n",
    "      \n",
    "    def put_data(self, item):\n",
    "        self.data.append(item) # 에피소드 간 측정된 데이터 리스트의 추가\n",
    "        \n",
    "    def train_net(self):# 에피소드에서으 데이터를 사용해  정책 신경망 학습\n",
    "        R = 0\n",
    "        self.optimizer.zero_grad() \n",
    "        for r, prob in self.data[::-1]: \n",
    "            R = r + gamma * R  #기준 리턴 계산\n",
    "            loss = -torch.log(prob) * R # 손실 계산 후 업데이트\n",
    "            loss.backward() #중요!! 역전파 사용해 gradient 계싼, 최적화 수행\n",
    "        self.optimizer.step()\n",
    "        self.data = []"
   ]
  },
  {
   "cell_type": "code",
   "execution_count": 4,
   "id": "cda3f60e",
   "metadata": {},
   "outputs": [
    {
     "name": "stderr",
     "output_type": "stream",
     "text": [
      "C:\\Users\\AIMLAB_JKIM\\AppData\\Local\\Programs\\Python\\Python311\\Lib\\site-packages\\gym\\utils\\passive_env_checker.py:233: DeprecationWarning: `np.bool8` is a deprecated alias for `np.bool_`.  (Deprecated NumPy 1.24)\n",
      "  if not isinstance(terminated, (bool, np.bool8)):\n"
     ]
    },
    {
     "name": "stdout",
     "output_type": "stream",
     "text": [
      "# of episode :20, avg score : 19.1\n",
      "# of episode :40, avg score : 22.75\n",
      "# of episode :60, avg score : 19.35\n",
      "# of episode :80, avg score : 25.55\n",
      "# of episode :100, avg score : 27.55\n",
      "# of episode :120, avg score : 31.7\n",
      "# of episode :140, avg score : 27.75\n",
      "# of episode :160, avg score : 29.8\n",
      "# of episode :180, avg score : 27.7\n",
      "# of episode :200, avg score : 25.0\n",
      "# of episode :220, avg score : 30.45\n",
      "# of episode :240, avg score : 35.4\n",
      "# of episode :260, avg score : 31.95\n",
      "# of episode :280, avg score : 35.85\n",
      "# of episode :300, avg score : 29.55\n",
      "# of episode :320, avg score : 43.35\n",
      "# of episode :340, avg score : 29.05\n",
      "# of episode :360, avg score : 38.05\n",
      "# of episode :380, avg score : 34.8\n",
      "# of episode :400, avg score : 43.0\n",
      "# of episode :420, avg score : 42.9\n",
      "# of episode :440, avg score : 37.2\n",
      "# of episode :460, avg score : 60.65\n",
      "# of episode :480, avg score : 52.55\n",
      "# of episode :500, avg score : 42.75\n",
      "# of episode :520, avg score : 47.15\n",
      "# of episode :540, avg score : 46.9\n",
      "# of episode :560, avg score : 45.55\n",
      "# of episode :580, avg score : 45.4\n",
      "# of episode :600, avg score : 58.25\n",
      "# of episode :620, avg score : 71.1\n",
      "# of episode :640, avg score : 56.05\n",
      "# of episode :660, avg score : 51.45\n",
      "# of episode :680, avg score : 57.15\n",
      "# of episode :700, avg score : 60.4\n",
      "# of episode :720, avg score : 60.8\n",
      "# of episode :740, avg score : 58.9\n",
      "# of episode :760, avg score : 65.8\n",
      "# of episode :780, avg score : 71.0\n",
      "# of episode :800, avg score : 64.85\n",
      "# of episode :820, avg score : 59.0\n",
      "# of episode :840, avg score : 67.85\n",
      "# of episode :860, avg score : 96.05\n",
      "# of episode :880, avg score : 86.5\n",
      "# of episode :900, avg score : 78.55\n",
      "# of episode :920, avg score : 91.15\n",
      "# of episode :940, avg score : 107.25\n",
      "# of episode :960, avg score : 90.0\n",
      "# of episode :980, avg score : 123.3\n"
     ]
    }
   ],
   "source": [
    "def main():\n",
    "    env = gym.make('CartPole-v1')\n",
    "    pi = Policy() \n",
    "    score = 0.0\n",
    "    print_interval = 20\n",
    "    \n",
    "    for n_epi in range(1000):\n",
    "        s, _ = env.reset()\n",
    "        done = False\n",
    "        \n",
    "        while not done: # CartPole-v1 forced to terminates at 500 step.\n",
    "            prob = pi(torch.from_numpy(s).float()) #상태 s를 입력으로 정책 신경망 실행 후 prob 출력\n",
    "            m = Categorical(prob) #확률 분포 prob 기반으로 Categorical 분포 m 생성\n",
    "            a = m.sample() #분포 m에서 액션 a 샘플링\n",
    "            s_prime, r, done, truncated, info = env.step(a.item()) # 액션 a를 환경에 적용한 뒤 S-prime, r, 종료여부 반환받음\n",
    "            pi.put_data((r,prob[a]))\n",
    "            s = s_prime\n",
    "            score += r\n",
    "            \n",
    "        pi.train_net() #정책 신경망 학습\n",
    "        \n",
    "        if n_epi%print_interval==0 and n_epi!=0: #특정 구간별 학습 결과 출력\n",
    "            print(\"# of episode :{}, avg score : {}\".format(n_epi, score/print_interval))\n",
    "            score = 0.0\n",
    "    env.close()\n",
    "    \n",
    "if __name__ == '__main__':\n",
    "    main()"
   ]
  }
 ],
 "metadata": {
  "kernelspec": {
   "display_name": "Python 3 (ipykernel)",
   "language": "python",
   "name": "python3"
  },
  "language_info": {
   "codemirror_mode": {
    "name": "ipython",
    "version": 3
   },
   "file_extension": ".py",
   "mimetype": "text/x-python",
   "name": "python",
   "nbconvert_exporter": "python",
   "pygments_lexer": "ipython3",
   "version": "3.11.1"
  }
 },
 "nbformat": 4,
 "nbformat_minor": 5
}
