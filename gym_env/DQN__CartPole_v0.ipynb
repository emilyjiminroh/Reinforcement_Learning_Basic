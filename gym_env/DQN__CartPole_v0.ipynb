{
  "nbformat": 4,
  "nbformat_minor": 0,
  "metadata": {
    "colab": {
      "provenance": []
    },
    "kernelspec": {
      "name": "python3",
      "display_name": "Python 3"
    },
    "language_info": {
      "name": "python"
    }
  },
  "cells": [
    {
      "cell_type": "markdown",
      "source": [
        "# RL- DQN Agent CartPole\n",
        "- 강화학습 분야의 유명한 'Cartpole' 예제\n",
        "-DQN 타입의 에이전트로 완성하는 노트북 프로젝트\n",
        "-강화학습 기반의 에이전트 훈련, 검증, 데이터 수집 방법 이해 가능\n",
        "-https://storage.googleapis.com/deepmind-media/dqn/DQNNaturePaper.pdf\n",
        "-https://raw.githubusercontent.com/tensorflow/agents/master/docs/tutorials/images/cartpole.png"
      ],
      "metadata": {
        "id": "vfSGLhYuK36e"
      }
    },
    {
      "cell_type": "markdown",
      "source": [
        "## 1) Environment Set Up"
      ],
      "metadata": {
        "id": "oqno7v1wRgcN"
      }
    },
    {
      "cell_type": "code",
      "execution_count": 1,
      "metadata": {
        "colab": {
          "base_uri": "https://localhost:8080/"
        },
        "id": "UBLArcEvIXgz",
        "outputId": "f80750f5-96f3-47f0-f07b-170bb7ee04da"
      },
      "outputs": [
        {
          "output_type": "stream",
          "name": "stdout",
          "text": [
            "\r0% [Working]\r            \rHit:1 https://cloud.r-project.org/bin/linux/ubuntu jammy-cran40/ InRelease\n",
            "\r0% [Waiting for headers] [Waiting for headers] [Connecting to ppa.launchpadcont\r                                                                               \rHit:2 https://developer.download.nvidia.com/compute/cuda/repos/ubuntu2204/x86_64  InRelease\n",
            "\r0% [Waiting for headers] [Waiting for headers] [Connecting to ppa.launchpadcont\r                                                                               \rHit:3 http://archive.ubuntu.com/ubuntu jammy InRelease\n",
            "Hit:4 http://security.ubuntu.com/ubuntu jammy-security InRelease\n",
            "Hit:5 http://archive.ubuntu.com/ubuntu jammy-updates InRelease\n",
            "Hit:6 http://archive.ubuntu.com/ubuntu jammy-backports InRelease\n",
            "Hit:7 https://ppa.launchpadcontent.net/c2d4u.team/c2d4u4.0+/ubuntu jammy InRelease\n",
            "Hit:8 https://ppa.launchpadcontent.net/deadsnakes/ppa/ubuntu jammy InRelease\n",
            "Hit:9 https://ppa.launchpadcontent.net/graphics-drivers/ppa/ubuntu jammy InRelease\n",
            "Hit:10 https://ppa.launchpadcontent.net/ubuntugis/ppa/ubuntu jammy InRelease\n",
            "Reading package lists... Done\n",
            "Reading package lists... Done\n",
            "Building dependency tree... Done\n",
            "Reading state information... Done\n",
            "freeglut3-dev is already the newest version (2.8.1-6).\n",
            "ffmpeg is already the newest version (7:4.4.2-0ubuntu0.22.04.1).\n",
            "xvfb is already the newest version (2:21.1.4-2ubuntu1.7~22.04.1).\n",
            "0 upgraded, 0 newly installed, 0 to remove and 19 not upgraded.\n",
            "Requirement already satisfied: imageio==2.4.0 in /usr/local/lib/python3.10/dist-packages (2.4.0)\n",
            "Requirement already satisfied: numpy in /usr/local/lib/python3.10/dist-packages (from imageio==2.4.0) (1.22.4)\n",
            "Requirement already satisfied: pillow in /usr/local/lib/python3.10/dist-packages (from imageio==2.4.0) (9.4.0)\n",
            "Requirement already satisfied: pyvirtualdisplay in /usr/local/lib/python3.10/dist-packages (3.0)\n",
            "Requirement already satisfied: tf-agents[reverb] in /usr/local/lib/python3.10/dist-packages (0.17.0)\n",
            "Requirement already satisfied: absl-py>=0.6.1 in /usr/local/lib/python3.10/dist-packages (from tf-agents[reverb]) (1.4.0)\n",
            "Requirement already satisfied: cloudpickle>=1.3 in /usr/local/lib/python3.10/dist-packages (from tf-agents[reverb]) (2.2.1)\n",
            "Requirement already satisfied: gin-config>=0.4.0 in /usr/local/lib/python3.10/dist-packages (from tf-agents[reverb]) (0.5.0)\n",
            "Requirement already satisfied: gym<=0.23.0,>=0.17.0 in /usr/local/lib/python3.10/dist-packages (from tf-agents[reverb]) (0.23.0)\n",
            "Requirement already satisfied: numpy>=1.19.0 in /usr/local/lib/python3.10/dist-packages (from tf-agents[reverb]) (1.22.4)\n",
            "Requirement already satisfied: pillow in /usr/local/lib/python3.10/dist-packages (from tf-agents[reverb]) (9.4.0)\n",
            "Requirement already satisfied: six>=1.10.0 in /usr/local/lib/python3.10/dist-packages (from tf-agents[reverb]) (1.16.0)\n",
            "Requirement already satisfied: protobuf>=3.11.3 in /usr/local/lib/python3.10/dist-packages (from tf-agents[reverb]) (3.20.3)\n",
            "Requirement already satisfied: wrapt>=1.11.1 in /usr/local/lib/python3.10/dist-packages (from tf-agents[reverb]) (1.14.1)\n",
            "Requirement already satisfied: typing-extensions<4.6.0,>=3.7.4.3 in /usr/local/lib/python3.10/dist-packages (from tf-agents[reverb]) (4.5.0)\n",
            "Requirement already satisfied: pygame==2.1.3 in /usr/local/lib/python3.10/dist-packages (from tf-agents[reverb]) (2.1.3)\n",
            "Requirement already satisfied: tensorflow-probability~=0.20.1 in /usr/local/lib/python3.10/dist-packages (from tf-agents[reverb]) (0.20.1)\n",
            "Requirement already satisfied: rlds in /usr/local/lib/python3.10/dist-packages (from tf-agents[reverb]) (0.1.8)\n",
            "Requirement already satisfied: dm-reverb~=0.12.0 in /usr/local/lib/python3.10/dist-packages (from tf-agents[reverb]) (0.12.0)\n",
            "Requirement already satisfied: tensorflow~=2.13.0 in /usr/local/lib/python3.10/dist-packages (from tf-agents[reverb]) (2.13.0)\n",
            "Requirement already satisfied: dm-tree in /usr/local/lib/python3.10/dist-packages (from dm-reverb~=0.12.0->tf-agents[reverb]) (0.1.8)\n",
            "Requirement already satisfied: portpicker in /usr/local/lib/python3.10/dist-packages (from dm-reverb~=0.12.0->tf-agents[reverb]) (1.5.2)\n",
            "Requirement already satisfied: gym-notices>=0.0.4 in /usr/local/lib/python3.10/dist-packages (from gym<=0.23.0,>=0.17.0->tf-agents[reverb]) (0.0.8)\n",
            "Requirement already satisfied: astunparse>=1.6.0 in /usr/local/lib/python3.10/dist-packages (from tensorflow~=2.13.0->tf-agents[reverb]) (1.6.3)\n",
            "Requirement already satisfied: flatbuffers>=23.1.21 in /usr/local/lib/python3.10/dist-packages (from tensorflow~=2.13.0->tf-agents[reverb]) (23.5.26)\n",
            "Requirement already satisfied: gast<=0.4.0,>=0.2.1 in /usr/local/lib/python3.10/dist-packages (from tensorflow~=2.13.0->tf-agents[reverb]) (0.4.0)\n",
            "Requirement already satisfied: google-pasta>=0.1.1 in /usr/local/lib/python3.10/dist-packages (from tensorflow~=2.13.0->tf-agents[reverb]) (0.2.0)\n",
            "Requirement already satisfied: grpcio<2.0,>=1.24.3 in /usr/local/lib/python3.10/dist-packages (from tensorflow~=2.13.0->tf-agents[reverb]) (1.56.2)\n",
            "Requirement already satisfied: h5py>=2.9.0 in /usr/local/lib/python3.10/dist-packages (from tensorflow~=2.13.0->tf-agents[reverb]) (3.8.0)\n",
            "Requirement already satisfied: keras<2.14,>=2.13.1 in /usr/local/lib/python3.10/dist-packages (from tensorflow~=2.13.0->tf-agents[reverb]) (2.13.1)\n",
            "Requirement already satisfied: libclang>=13.0.0 in /usr/local/lib/python3.10/dist-packages (from tensorflow~=2.13.0->tf-agents[reverb]) (16.0.6)\n",
            "Requirement already satisfied: opt-einsum>=2.3.2 in /usr/local/lib/python3.10/dist-packages (from tensorflow~=2.13.0->tf-agents[reverb]) (3.3.0)\n",
            "Requirement already satisfied: packaging in /usr/local/lib/python3.10/dist-packages (from tensorflow~=2.13.0->tf-agents[reverb]) (23.1)\n",
            "Requirement already satisfied: setuptools in /usr/local/lib/python3.10/dist-packages (from tensorflow~=2.13.0->tf-agents[reverb]) (67.7.2)\n",
            "Requirement already satisfied: tensorboard<2.14,>=2.13 in /usr/local/lib/python3.10/dist-packages (from tensorflow~=2.13.0->tf-agents[reverb]) (2.13.0)\n",
            "Requirement already satisfied: tensorflow-estimator<2.14,>=2.13.0 in /usr/local/lib/python3.10/dist-packages (from tensorflow~=2.13.0->tf-agents[reverb]) (2.13.0)\n",
            "Requirement already satisfied: termcolor>=1.1.0 in /usr/local/lib/python3.10/dist-packages (from tensorflow~=2.13.0->tf-agents[reverb]) (2.3.0)\n",
            "Requirement already satisfied: tensorflow-io-gcs-filesystem>=0.23.1 in /usr/local/lib/python3.10/dist-packages (from tensorflow~=2.13.0->tf-agents[reverb]) (0.32.0)\n",
            "Requirement already satisfied: decorator in /usr/local/lib/python3.10/dist-packages (from tensorflow-probability~=0.20.1->tf-agents[reverb]) (4.4.2)\n",
            "Requirement already satisfied: wheel<1.0,>=0.23.0 in /usr/local/lib/python3.10/dist-packages (from astunparse>=1.6.0->tensorflow~=2.13.0->tf-agents[reverb]) (0.41.0)\n",
            "Requirement already satisfied: google-auth<3,>=1.6.3 in /usr/local/lib/python3.10/dist-packages (from tensorboard<2.14,>=2.13->tensorflow~=2.13.0->tf-agents[reverb]) (2.17.3)\n",
            "Requirement already satisfied: google-auth-oauthlib<1.1,>=0.5 in /usr/local/lib/python3.10/dist-packages (from tensorboard<2.14,>=2.13->tensorflow~=2.13.0->tf-agents[reverb]) (1.0.0)\n",
            "Requirement already satisfied: markdown>=2.6.8 in /usr/local/lib/python3.10/dist-packages (from tensorboard<2.14,>=2.13->tensorflow~=2.13.0->tf-agents[reverb]) (3.4.4)\n",
            "Requirement already satisfied: requests<3,>=2.21.0 in /usr/local/lib/python3.10/dist-packages (from tensorboard<2.14,>=2.13->tensorflow~=2.13.0->tf-agents[reverb]) (2.27.1)\n",
            "Requirement already satisfied: tensorboard-data-server<0.8.0,>=0.7.0 in /usr/local/lib/python3.10/dist-packages (from tensorboard<2.14,>=2.13->tensorflow~=2.13.0->tf-agents[reverb]) (0.7.1)\n",
            "Requirement already satisfied: werkzeug>=1.0.1 in /usr/local/lib/python3.10/dist-packages (from tensorboard<2.14,>=2.13->tensorflow~=2.13.0->tf-agents[reverb]) (2.3.6)\n",
            "Requirement already satisfied: psutil in /usr/local/lib/python3.10/dist-packages (from portpicker->dm-reverb~=0.12.0->tf-agents[reverb]) (5.9.5)\n",
            "Requirement already satisfied: cachetools<6.0,>=2.0.0 in /usr/local/lib/python3.10/dist-packages (from google-auth<3,>=1.6.3->tensorboard<2.14,>=2.13->tensorflow~=2.13.0->tf-agents[reverb]) (5.3.1)\n",
            "Requirement already satisfied: pyasn1-modules>=0.2.1 in /usr/local/lib/python3.10/dist-packages (from google-auth<3,>=1.6.3->tensorboard<2.14,>=2.13->tensorflow~=2.13.0->tf-agents[reverb]) (0.3.0)\n",
            "Requirement already satisfied: rsa<5,>=3.1.4 in /usr/local/lib/python3.10/dist-packages (from google-auth<3,>=1.6.3->tensorboard<2.14,>=2.13->tensorflow~=2.13.0->tf-agents[reverb]) (4.9)\n",
            "Requirement already satisfied: requests-oauthlib>=0.7.0 in /usr/local/lib/python3.10/dist-packages (from google-auth-oauthlib<1.1,>=0.5->tensorboard<2.14,>=2.13->tensorflow~=2.13.0->tf-agents[reverb]) (1.3.1)\n",
            "Requirement already satisfied: urllib3<1.27,>=1.21.1 in /usr/local/lib/python3.10/dist-packages (from requests<3,>=2.21.0->tensorboard<2.14,>=2.13->tensorflow~=2.13.0->tf-agents[reverb]) (1.26.16)\n",
            "Requirement already satisfied: certifi>=2017.4.17 in /usr/local/lib/python3.10/dist-packages (from requests<3,>=2.21.0->tensorboard<2.14,>=2.13->tensorflow~=2.13.0->tf-agents[reverb]) (2023.7.22)\n",
            "Requirement already satisfied: charset-normalizer~=2.0.0 in /usr/local/lib/python3.10/dist-packages (from requests<3,>=2.21.0->tensorboard<2.14,>=2.13->tensorflow~=2.13.0->tf-agents[reverb]) (2.0.12)\n",
            "Requirement already satisfied: idna<4,>=2.5 in /usr/local/lib/python3.10/dist-packages (from requests<3,>=2.21.0->tensorboard<2.14,>=2.13->tensorflow~=2.13.0->tf-agents[reverb]) (3.4)\n",
            "Requirement already satisfied: MarkupSafe>=2.1.1 in /usr/local/lib/python3.10/dist-packages (from werkzeug>=1.0.1->tensorboard<2.14,>=2.13->tensorflow~=2.13.0->tf-agents[reverb]) (2.1.3)\n",
            "Requirement already satisfied: pyasn1<0.6.0,>=0.4.6 in /usr/local/lib/python3.10/dist-packages (from pyasn1-modules>=0.2.1->google-auth<3,>=1.6.3->tensorboard<2.14,>=2.13->tensorflow~=2.13.0->tf-agents[reverb]) (0.5.0)\n",
            "Requirement already satisfied: oauthlib>=3.0.0 in /usr/local/lib/python3.10/dist-packages (from requests-oauthlib>=0.7.0->google-auth-oauthlib<1.1,>=0.5->tensorboard<2.14,>=2.13->tensorflow~=2.13.0->tf-agents[reverb]) (3.2.2)\n",
            "Requirement already satisfied: pyglet in /usr/local/lib/python3.10/dist-packages (2.0.8)\n"
          ]
        }
      ],
      "source": [
        "! sudo apt-get update\n",
        "! sudo apt-get install -y xvfb ffmpeg freeglut3-dev\n",
        "! pip install 'imageio==2.4.0'\n",
        "! pip install pyvirtualdisplay\n",
        "! pip install tf-agents[reverb]\n",
        "! pip install pyglet"
      ]
    },
    {
      "cell_type": "code",
      "source": [
        "from __future__ import absolute_import, division, print_function\n",
        "# 기본 라이브러리\n",
        "import base64\n",
        "import IPython\n",
        "import matplotlib\n",
        "import matplotlib.pyplot as plt\n",
        "import numpy as np\n",
        "import imageio\n",
        "import PIL.Image\n",
        "import pyvirtualdisplay\n",
        "import reverb\n",
        "# 구글 머신러닝 플랫폼 TF\n",
        "import tensorflow as tf\n",
        "# TF의 강화학습 요소: TF Agent\n",
        "# 환경, 에이전트, 성능평가 요소 임포트\n",
        "from tf_agents.agents.dqn import dqn_agent\n",
        "from tf_agents.drivers import py_driver\n",
        "from tf_agents.environments import suite_gym\n",
        "from tf_agents.environments import tf_py_environment\n",
        "from tf_agents.eval import metric_utils\n",
        "from tf_agents.metrics import tf_metrics\n",
        "from tf_agents.networks import sequential\n",
        "from tf_agents.policies import py_tf_eager_policy\n",
        "from tf_agents.policies import random_tf_policy\n",
        "# 학습 과정 시각화 요소 임포트\n",
        "from tf_agents.replay_buffers import reverb_replay_buffer\n",
        "from tf_agents.replay_buffers import reverb_utils\n",
        "from tf_agents.trajectories import trajectory\n",
        "from tf_agents.specs import tensor_spec\n",
        "from tf_agents.utils import common"
      ],
      "metadata": {
        "colab": {
          "base_uri": "https://localhost:8080/",
          "height": 137
        },
        "id": "WxvC0YgMJBbs",
        "outputId": "2dfa96e7-442d-4133-c3c9-1839424747ad"
      },
      "execution_count": 2,
      "outputs": [
        {
          "output_type": "error",
          "ename": "RuntimeError",
          "evalue": "ignored",
          "traceback": [
            "\u001b[0;31m---------------------------------------------------------------------------\u001b[0m",
            "\u001b[0;31mRuntimeError\u001b[0m                              Traceback (most recent call last)",
            "\u001b[0;31mRuntimeError\u001b[0m: module compiled against API version 0x10 but this version of numpy is 0xf . Check the section C-API incompatibility at the Troubleshooting ImportError section at https://numpy.org/devdocs/user/troubleshooting-importerror.html#c-api-incompatibility for indications on how to solve this problem ."
          ]
        }
      ]
    },
    {
      "cell_type": "code",
      "source": [
        "# Set up a virtual display\n",
        "# for rendering OpenAI gym environment\n",
        "display = pyvirtualdisplay.Display(visible=0,size=(1600,800)).start()"
      ],
      "metadata": {
        "id": "fEIbfay3JBfc"
      },
      "execution_count": 3,
      "outputs": []
    },
    {
      "cell_type": "code",
      "source": [
        "tf.version.VERSION"
      ],
      "metadata": {
        "colab": {
          "base_uri": "https://localhost:8080/",
          "height": 35
        },
        "id": "7loS1cwiJBjp",
        "outputId": "f3c44c14-504c-4625-dd8e-b49633a62c22"
      },
      "execution_count": 4,
      "outputs": [
        {
          "output_type": "execute_result",
          "data": {
            "text/plain": [
              "'2.13.0'"
            ],
            "application/vnd.google.colaboratory.intrinsic+json": {
              "type": "string"
            }
          },
          "metadata": {},
          "execution_count": 4
        }
      ]
    },
    {
      "cell_type": "code",
      "source": [
        "# 반복 회수\n",
        "num_iterations = 5000\n",
        "# 100회 마다 학습성과 수집 (for the replay_buffer)\n",
        "initial_collect_steps = 100\n",
        "collect_steps_per_iteration = 1\n",
        "replay_buffer_max_length = 10000\n",
        "# 일괄 실행 초기화\n",
        "batch_size = 64\n",
        "learning_rate = 1e-3\n",
        "# 로그 출력 간격\n",
        "log_interval = 200\n",
        "# 학습 성능 검증\n",
        "num_eval_episodes = 10\n",
        "eval_interval = 1000"
      ],
      "metadata": {
        "id": "LHPRzBHKJBmC"
      },
      "execution_count": 5,
      "outputs": []
    },
    {
      "cell_type": "code",
      "source": [
        "# 환경 불러오기\n",
        "env = suite_gym.load('CartPole-v0')\n",
        "env.reset()\n",
        "PIL.Image.fromarray(env.render())"
      ],
      "metadata": {
        "colab": {
          "base_uri": "https://localhost:8080/",
          "height": 417
        },
        "id": "4IOTfjJZJBof",
        "outputId": "b8f8381f-38c8-4e0c-c06c-5d75742d28ae"
      },
      "execution_count": 6,
      "outputs": [
        {
          "output_type": "execute_result",
          "data": {
            "text/plain": [
              "<PIL.Image.Image image mode=RGB size=600x400>"
            ],
            "image/png": "[encoded data removed]"
          },
          "metadata": {},
          "execution_count": 6
        }
      ]
    },
    {
      "cell_type": "code",
      "source": [
        "# RL observation, reward, action 정보\n",
        "print(\"\\n observation \\n\",env.time_step_spec().observation) # [카트의 위치, 속도, 막대의 각위치, 속도]\n",
        "print(\"\\n reward \\n\",env.time_step_spec().reward)\n",
        "print(\"\\n action \\n\",env.action_spec()) # 0 - 왼쪽, 1 - 오른쪽"
      ],
      "metadata": {
        "colab": {
          "base_uri": "https://localhost:8080/"
        },
        "id": "VPGaiVuwJBqy",
        "outputId": "47ce123e-e237-4ac6-d753-c659e903fe3e"
      },
      "execution_count": 7,
      "outputs": [
        {
          "output_type": "stream",
          "name": "stdout",
          "text": [
            "\n",
            " observation \n",
            " BoundedArraySpec(shape=(4,), dtype=dtype('float32'), name='observation', minimum=[-4.8000002e+00 -3.4028235e+38 -4.1887903e-01 -3.4028235e+38], maximum=[4.8000002e+00 3.4028235e+38 4.1887903e-01 3.4028235e+38])\n",
            "\n",
            " reward \n",
            " ArraySpec(shape=(), dtype=dtype('float32'), name='reward')\n",
            "\n",
            " action \n",
            " BoundedArraySpec(shape=(), dtype=dtype('int64'), name='action', minimum=0, maximum=1)\n"
          ]
        }
      ]
    },
    {
      "cell_type": "code",
      "source": [
        "# 초기 동작 확인\n",
        "time_step = env.reset()\n",
        "print(time_step)\n",
        "PIL.Image.fromarray(env.render())"
      ],
      "metadata": {
        "colab": {
          "base_uri": "https://localhost:8080/",
          "height": 509
        },
        "id": "irpEcR-NOP2O",
        "outputId": "4a536fda-2e88-4e4f-88c6-9b8f8324c23f"
      },
      "execution_count": 8,
      "outputs": [
        {
          "output_type": "stream",
          "name": "stdout",
          "text": [
            "TimeStep(\n",
            "{'discount': array(1., dtype=float32),\n",
            " 'observation': array([-0.04072805,  0.00659013, -0.02964219,  0.03313814], dtype=float32),\n",
            " 'reward': array(0., dtype=float32),\n",
            " 'step_type': array(0, dtype=int32)})\n"
          ]
        },
        {
          "output_type": "execute_result",
          "data": {
            "text/plain": [
              "<PIL.Image.Image image mode=RGB size=600x400>"
            ],
            "image/png": "[encoded data removed]"
          },
          "metadata": {},
          "execution_count": 8
        }
      ]
    },
    {
      "cell_type": "code",
      "source": [
        "# 다음 동작 확인\n",
        "action = np.array(1,dtype = np.int32)\n",
        "next_time_step = env.step(action)\n",
        "print(next_time_step)\n",
        "PIL.Image.fromarray(env.render())"
      ],
      "metadata": {
        "colab": {
          "base_uri": "https://localhost:8080/",
          "height": 509
        },
        "id": "KX1pijd4OP8w",
        "outputId": "d45757f3-0464-4fe9-a26a-7818b679bd8f"
      },
      "execution_count": 9,
      "outputs": [
        {
          "output_type": "stream",
          "name": "stdout",
          "text": [
            "TimeStep(\n",
            "{'discount': array(1., dtype=float32),\n",
            " 'observation': array([-0.04059625,  0.20212434, -0.02897943, -0.26874787], dtype=float32),\n",
            " 'reward': array(1., dtype=float32),\n",
            " 'step_type': array(1, dtype=int32)})\n"
          ]
        },
        {
          "output_type": "execute_result",
          "data": {
            "text/plain": [
              "<PIL.Image.Image image mode=RGB size=600x400>"
            ],
            "image/png": "[encoded data removed]"
          },
          "metadata": {},
          "execution_count": 9
        }
      ]
    },
    {
      "cell_type": "code",
      "source": [
        "# 훈련 및 검증 환경 로딩\n",
        "train_py_env = suite_gym.load('CartPole-v0')\n",
        "eval_py_env = suite_gym.load('CartPole-v0')\n",
        "# Py -> Tf CartPole 환경으로 변환\n",
        "train_env = tf_py_environment.TFPyEnvironment(train_py_env)\n",
        "eval_env = tf_py_environment.TFPyEnvironment(eval_py_env)"
      ],
      "metadata": {
        "id": "xdO8pKjbOP_P"
      },
      "execution_count": 10,
      "outputs": []
    },
    {
      "cell_type": "markdown",
      "source": [
        "## 2) Agent Set Up"
      ],
      "metadata": {
        "id": "285gk1BuRnBL"
      }
    },
    {
      "cell_type": "code",
      "source": [
        "fc_layers_params = (100,50)\n",
        "# action_spec을 tf로 변환. tf 연산을 위해!\n",
        "action_tensor_spec = tensor_spec.from_spec(env.action_spec())\n",
        "num_actions = action_tensor_spec.maximum - action_tensor_spec.minimum + 1\n",
        "print(action_tensor_spec) # 출력결과는 기존의 env.action_spec과 별 다를게 없음"
      ],
      "metadata": {
        "colab": {
          "base_uri": "https://localhost:8080/"
        },
        "id": "j1W8makqRXVN",
        "outputId": "7a286359-f5c8-4da7-f119-162124ca5af3"
      },
      "execution_count": 11,
      "outputs": [
        {
          "output_type": "stream",
          "name": "stdout",
          "text": [
            "BoundedTensorSpec(shape=(), dtype=tf.int64, name='action', minimum=array(0), maximum=array(1))\n"
          ]
        }
      ]
    },
    {
      "cell_type": "code",
      "source": [
        "# dense 함수 구축\n",
        "def dense_layer(num_units):\n",
        "  return tf.keras.layers.Dense(\n",
        "      num_units,\n",
        "      activation = tf.keras.activations.relu,\n",
        "      kernel_initializer = tf.keras.initializers.VarianceScaling(scale=2.0, mode= 'fan_in', distribution='truncated_normal')\n",
        "  )"
      ],
      "metadata": {
        "id": "JXFKKF0aRXXj"
      },
      "execution_count": 12,
      "outputs": []
    },
    {
      "cell_type": "code",
      "source": [
        "# Q-network: 개별 액션에 대응하여 Q값을 생성하는 Dense layer 결합\n",
        "dense_layers = [dense_layer(num_units) for num_units in fc_layers_params]\n",
        "\n",
        "# 각 액션에 대한 Q-value를 추정, 마지막 layer\n",
        "q_values_layer = tf.keras.layers.Dense(\n",
        "    num_actions,\n",
        "    activation = None,\n",
        "    kernel_initializer = tf.keras.initializers.RandomUniform(minval=-0.03, maxval = 0.03),\n",
        "    bias_initializer = tf.keras.initializers.Constant(-0.2))\n",
        "\n",
        "q_net = sequential.Sequential(dense_layers + [q_values_layer])"
      ],
      "metadata": {
        "id": "bO6DKs_ORXaM"
      },
      "execution_count": 13,
      "outputs": []
    },
    {
      "cell_type": "code",
      "source": [
        "# DQN_Agent 초기화\n",
        "optimizer = tf.keras.optimizers.Adam(learning_rate = learning_rate) # optimizer 정의\n",
        "train_step_counter = tf.Variable(0) #학습 횟수 기록 변수 초기화 0\n",
        "\n",
        "agent = dqn_agent.DqnAgent( # Tensorflow Agents lib 활용\n",
        "    train_env.time_step_spec(), # 환경에 대한 상태 tensor 정보\n",
        "    train_env.action_spec(), # 취할 수 있는 액션에 대한 tensor 정보\n",
        "    q_network = q_net, # 해당 액션에 대한 q-value를 추출하기 위한 q-network\n",
        "    optimizer = optimizer, # opitmizer Adam 사용\n",
        "    td_errors_loss_fn = common.element_wise_squared_loss, # 손실함수 MSE\n",
        "    train_step_counter = train_step_counter) # 학습 횟수 기록 변수\n",
        "\n",
        "# Agent 초기화\n",
        "agent.initialize()"
      ],
      "metadata": {
        "id": "A47tG6cZRXce"
      },
      "execution_count": 14,
      "outputs": []
    },
    {
      "cell_type": "markdown",
      "source": [
        "## 3) Policy Set Up\n",
        "- 환경에서 Agent 행동 방식 정의, 원하는 결과를 얻을 때까지 훈련 지속\n",
        "- 이번 환경에서 원하는 결과: 움직이는 카트 위에 막대 세워두기\n",
        "- 이번 정책은 time-step 마다 대응하는 0 좌측 or 1 우측 이동 동작 반환"
      ],
      "metadata": {
        "id": "WBJTIpCK6sT5"
      }
    },
    {
      "cell_type": "code",
      "source": [
        "# 기본 정책: Agent의 성능 검증 및 배포\n",
        "agent_policy = agent.policy\n",
        "# 보조 정책: Agent의 데이터 수집(동작 및 결과 데이터)\n",
        "collect_policy = agent.collect_policy\n",
        "\n",
        "# 정책과 Agent는 서로 독립적인 관계\n",
        "# 무작위 동작 수행 정책\n",
        "random_policy = random_tf_policy.RandomTFPolicy(\n",
        "    train_env.time_step_spec(),\n",
        "    train_env.action_spec()\n",
        ")"
      ],
      "metadata": {
        "id": "jnCJQRXfRXeq"
      },
      "execution_count": 15,
      "outputs": []
    },
    {
      "cell_type": "code",
      "source": [
        "# 예제 환경인 CartPole-v0 로딩\n",
        "example_environment = tf_py_environment.TFPyEnvironment(\n",
        "    suite_gym.load('CartPole-v0')\n",
        ")\n",
        "# 초기화\n",
        "time_step = example_environment.reset()\n",
        "\n",
        "# random_policy 기반 method 실행. method 반환 값, PolicyStep 확인\n",
        "random_policy.action(time_step) # policy.action(time_step) 정책 기반 동작 함수"
      ],
      "metadata": {
        "colab": {
          "base_uri": "https://localhost:8080/"
        },
        "id": "KsnPoEy-RXjc",
        "outputId": "b1f03c17-897c-46d1-ad60-41c8146a55f1"
      },
      "execution_count": 16,
      "outputs": [
        {
          "output_type": "execute_result",
          "data": {
            "text/plain": [
              "PolicyStep(action=<tf.Tensor: shape=(1,), dtype=int64, numpy=array([1])>, state=(), info=())"
            ]
          },
          "metadata": {},
          "execution_count": 16
        }
      ]
    },
    {
      "cell_type": "markdown",
      "source": [
        "## 4) Metrics and Evaluation\n",
        "- 정책 평가 지표: average return (평균 보상)\n",
        "- 다수의 에피소드 실행 결과, 평균 보상 생성\n",
        "- 정책, 환경, 에피소드 수 입력 => 정책의 평균 보상 출력\n",
        "- 이외의 다양한 성능 지표 하단의 링크 참조\n",
        "- https://github.com/tensorflow/agents/tree/master/tf_agents/metrics"
      ],
      "metadata": {
        "id": "WBCj2SFD_fGd"
      }
    },
    {
      "cell_type": "code",
      "source": [
        "# 정책의 average return 계산\n",
        "def compute_avg_return(environment,policy,num_episodes=10):\n",
        "  total_return = 0.0 # 누적 episode의 return 값 저장하는 변수\n",
        "\n",
        "  for _ in range(num_episodes): # num_episodes 만큼 실행\n",
        "    time_step = environment.reset() # 환경 초기화\n",
        "    episode_return = 0.0 # 에피소드 별 return 저장할 변수\n",
        "    while not time_step.is_last(): # episode가 끝날 때 까지 반복\n",
        "      action_step = policy.action(time_step)  #policy 기반 time_step 환경에서의 액션 실행\n",
        "      time_step = environment.step(action_step.action) # 액션 적용한 그 다음 환경 업데이트\n",
        "      episode_return += time_step.reward #에피소드 reward 저장\n",
        "\n",
        "    total_return += episode_return #모든 에피소드의 누적 reward 저장\n",
        "\n",
        "  avg_return = total_return / num_episodes # 평균 return 계산\n",
        "  return avg_return.numpy()[0] #Tensor 값을 numpy 배열로 변환후 스칼라 값으로 반환"
      ],
      "metadata": {
        "id": "LylhhtKnRXhG"
      },
      "execution_count": 17,
      "outputs": []
    },
    {
      "cell_type": "code",
      "source": [
        "compute_avg_return(eval_env,random_policy,num_eval_episodes) # 랜덤 기반 정책 성능 출력(대략적인 기본 성능 파악을 위함)"
      ],
      "metadata": {
        "colab": {
          "base_uri": "https://localhost:8080/"
        },
        "id": "JBSpiaXURXlv",
        "outputId": "10354d35-d951-4bdd-9ea2-8763a78386e9"
      },
      "execution_count": 18,
      "outputs": [
        {
          "output_type": "execute_result",
          "data": {
            "text/plain": [
              "26.0"
            ]
          },
          "metadata": {},
          "execution_count": 18
        }
      ]
    },
    {
      "cell_type": "markdown",
      "source": [
        "## 5) Replay Buffer 경험치 저장\n",
        "- \"reverb\" 리플레이 시스템, 환경 변화를 반영한 에이전트 동작 재현\n",
        "- https://deepmind.com/research/open-source/Reverb\n",
        "- Agent가 실행하는 행동 데이터를 경험치로 수집하고 훈련에 활용\n",
        "- replay buffer: specs data로 구성\n",
        "- specs: agent.collect_data_spec으로 수집한 tensor type의 데이터"
      ],
      "metadata": {
        "id": "ze9JgQmcKlvt"
      }
    },
    {
      "cell_type": "code",
      "source": [
        "# Agent 경험치 관리를 위한 Table 유형 선언\n",
        "table_name = 'uniform_table' # table 이름\n",
        "replay_buffer_signature = tensor_spec.from_spec(agent.collect_data_spec) # agent.collect_data_spec으로부터 replay buffer 정의\n",
        "#print('\\nBefore add_outer_dim\\n',replay_buffer_signature)\n",
        "replay_buffer_signature = tensor_spec.add_outer_dim(replay_buffer_signature) # 추가적인 데이터를 차원을 추가하여 정의\n",
        "#print('\\nAfter add_outer_dim\\n',replay_buffer_signature)\n",
        "\n",
        "# reverb 테이블\n",
        "table = reverb.Table( # reverb.Table lib 활용\n",
        "    table_name, # table 이름\n",
        "    max_size = replay_buffer_max_length, #replay_buffer 최대 용량 지정\n",
        "    sampler = reverb.selectors.Uniform(), # reverb.selectors를 균등하게 뽑아 sampler 지정\n",
        "    remover = reverb.selectors.Fifo(), # first-in-first-out으로 가장 오래된 데이터를 먼저 제거하도록 지정\n",
        "    rate_limiter = reverb.rate_limiters.MinSize(1), # replay buffer update 속도 지정, 최소 한 개의 값을 추가할 수 있을 때, 추가 허용\n",
        "    signature = replay_buffer_signature) # 위에서 지정한 replay_buffer_signature를 signature로 지정\n",
        "#print('\\ntable\\n',table)"
      ],
      "metadata": {
        "id": "rXXx082DDE1-"
      },
      "execution_count": 19,
      "outputs": []
    },
    {
      "cell_type": "code",
      "source": [
        "# reverb 연산용 서버 구축\n",
        "reverb_server = reverb.Server([table])"
      ],
      "metadata": {
        "id": "XGKkFxlgDEzf"
      },
      "execution_count": 20,
      "outputs": []
    },
    {
      "cell_type": "code",
      "source": [
        "# replay buffer로 경험치 갱신\n",
        "replay_buffer = reverb_replay_buffer.ReverbReplayBuffer( # ReplayBuffer 생성\n",
        "    agent.collect_data_spec, # agent.collect_data_spec 값을\n",
        "    table_name = table_name, #table_name으로\n",
        "    sequence_length=2, #sequence를 두 개씩 묶어\n",
        "    local_server = reverb_server # reverb_server에 업데이트\n",
        ")"
      ],
      "metadata": {
        "id": "EUcLDKsdDEuT"
      },
      "execution_count": 21,
      "outputs": []
    },
    {
      "cell_type": "code",
      "source": [
        "# 변화하는 관측치 누적\n",
        "rb_observer = reverb_utils.ReverbAddTrajectoryObserver( # 관측치 데이터 수집\n",
        "    replay_buffer.py_client, # python client 객체를 통해 관측치 데이터 replay buffer에 추가\n",
        "    table_name,\n",
        "    sequence_length = 2\n",
        ")"
      ],
      "metadata": {
        "id": "NONOPz7lDEpk"
      },
      "execution_count": 22,
      "outputs": []
    },
    {
      "cell_type": "code",
      "source": [
        "# agent 경험치 출력\n",
        "print('\\n경험치 저장 정보\\n',agent.collect_data_spec)\n",
        "print('\\n경험치 저장 목록\\n',agent.collect_data_spec._fields)"
      ],
      "metadata": {
        "colab": {
          "base_uri": "https://localhost:8080/"
        },
        "id": "wznPVxZkK79y",
        "outputId": "08b33be2-5eba-4c3c-cf4a-e509ed4eeff4"
      },
      "execution_count": 23,
      "outputs": [
        {
          "output_type": "stream",
          "name": "stdout",
          "text": [
            "\n",
            "경험치 저장 정보\n",
            " Trajectory(\n",
            "{'action': BoundedTensorSpec(shape=(), dtype=tf.int64, name='action', minimum=array(0), maximum=array(1)),\n",
            " 'discount': BoundedTensorSpec(shape=(), dtype=tf.float32, name='discount', minimum=array(0., dtype=float32), maximum=array(1., dtype=float32)),\n",
            " 'next_step_type': TensorSpec(shape=(), dtype=tf.int32, name='step_type'),\n",
            " 'observation': BoundedTensorSpec(shape=(4,), dtype=tf.float32, name='observation', minimum=array([-4.8000002e+00, -3.4028235e+38, -4.1887903e-01, -3.4028235e+38],\n",
            "      dtype=float32), maximum=array([4.8000002e+00, 3.4028235e+38, 4.1887903e-01, 3.4028235e+38],\n",
            "      dtype=float32)),\n",
            " 'policy_info': (),\n",
            " 'reward': TensorSpec(shape=(), dtype=tf.float32, name='reward'),\n",
            " 'step_type': TensorSpec(shape=(), dtype=tf.int32, name='step_type')})\n",
            "\n",
            "경험치 저장 목록\n",
            " ('step_type', 'observation', 'action', 'policy_info', 'next_step_type', 'reward', 'discount')\n"
          ]
        }
      ]
    },
    {
      "cell_type": "markdown",
      "source": [
        "## 4) Data Collection"
      ],
      "metadata": {
        "id": "4U06v9HtVonJ"
      }
    },
    {
      "cell_type": "code",
      "source": [
        "# PyDriver로 환경에서 에이전트의 경험치 수집\n",
        "py_driver.PyDriver(\n",
        "    env,\n",
        "    py_tf_eager_policy.PyTFEagerPolicy(\n",
        "        random_policy, use_tf_function=True),\n",
        "    [rb_observer],\n",
        "    max_steps = initial_collect_steps).run(train_py_env.reset())"
      ],
      "metadata": {
        "colab": {
          "base_uri": "https://localhost:8080/"
        },
        "id": "TwLEI-srMu4q",
        "outputId": "573ca6df-eb94-47c1-b537-6c3264c77874"
      },
      "execution_count": 24,
      "outputs": [
        {
          "output_type": "execute_result",
          "data": {
            "text/plain": [
              "(TimeStep(\n",
              " {'discount': array(1., dtype=float32),\n",
              "  'observation': array([ 0.07015748,  0.78195965, -0.01711806, -1.0521322 ], dtype=float32),\n",
              "  'reward': array(1., dtype=float32),\n",
              "  'step_type': array(1, dtype=int32)}),\n",
              " ())"
            ]
          },
          "metadata": {},
          "execution_count": 24
        }
      ]
    },
    {
      "cell_type": "code",
      "source": [
        "# Dataset Pipeline 구현\n",
        "dataset = replay_buffer.as_dataset( # replay_buffer dataset 생성하기\n",
        "    num_parallel_calls= 3, # 병렬 처리 가능한 셀 개수\n",
        "    sample_batch_size = batch_size, #batch_size 지정\n",
        "    num_steps=2).prefetch(3) # sequence_length와 num_steps 개수 같아야 함, 미리 batch 3개 대기\n",
        "\n",
        "dataset # dataset 출력"
      ],
      "metadata": {
        "id": "_op8gLRZDEm8",
        "colab": {
          "base_uri": "https://localhost:8080/"
        },
        "outputId": "c8f786ec-2b6e-4124-9a5f-f2a5fb726c68"
      },
      "execution_count": 25,
      "outputs": [
        {
          "output_type": "execute_result",
          "data": {
            "text/plain": [
              "<_PrefetchDataset element_spec=(Trajectory(\n",
              "{'action': TensorSpec(shape=(64, 2), dtype=tf.int64, name=None),\n",
              " 'discount': TensorSpec(shape=(64, 2), dtype=tf.float32, name=None),\n",
              " 'next_step_type': TensorSpec(shape=(64, 2), dtype=tf.int32, name=None),\n",
              " 'observation': TensorSpec(shape=(64, 2, 4), dtype=tf.float32, name=None),\n",
              " 'policy_info': (),\n",
              " 'reward': TensorSpec(shape=(64, 2), dtype=tf.float32, name=None),\n",
              " 'step_type': TensorSpec(shape=(64, 2), dtype=tf.int32, name=None)}), SampleInfo(key=TensorSpec(shape=(64, 2), dtype=tf.uint64, name=None), probability=TensorSpec(shape=(64, 2), dtype=tf.float64, name=None), table_size=TensorSpec(shape=(64, 2), dtype=tf.int64, name=None), priority=TensorSpec(shape=(64, 2), dtype=tf.float64, name=None), times_sampled=TensorSpec(shape=(64, 2), dtype=tf.int32, name=None)))>"
            ]
          },
          "metadata": {},
          "execution_count": 25
        }
      ]
    },
    {
      "cell_type": "code",
      "source": [
        "iterator = iter(dataset) # iter로 변환, tensorflow 활용 위해\n",
        "print(iterator)"
      ],
      "metadata": {
        "colab": {
          "base_uri": "https://localhost:8080/"
        },
        "id": "4NSVAAsDXNau",
        "outputId": "bf309690-0f79-4068-897a-e032414d0f94"
      },
      "execution_count": 26,
      "outputs": [
        {
          "output_type": "stream",
          "name": "stdout",
          "text": [
            "<tensorflow.python.data.ops.iterator_ops.OwnedIterator object at 0x7b5110589db0>\n"
          ]
        }
      ]
    },
    {
      "cell_type": "markdown",
      "source": [
        "## 5) Training the Agent"
      ],
      "metadata": {
        "id": "LKR0-pcZ0_Fn"
      }
    },
    {
      "cell_type": "code",
      "source": [
        "# 셀 실행 시간 출력\n",
        "try:\n",
        "  %%time\n",
        "except:\n",
        "  pass\n",
        "\n",
        "# agent.train 함수 생성\n",
        "agent.train = common.function(agent.train)\n",
        "agent.train_step_counter.assign(0) # step_counter 횟수 0으로 초기화\n",
        "\n",
        "avg_return = compute_avg_return(eval_env,agent.policy,num_eval_episodes) #compute_avg_return 함수 통해 avg_return 계산\n",
        "returns = [avg_return] #avg_return return 리스트에 저장\n",
        "\n",
        "time_step = train_py_env.reset() # 환경 초기화\n",
        "\n",
        "collect_driver = py_driver.PyDriver( # 경험치 저장\n",
        "    env,\n",
        "    py_tf_eager_policy.PyTFEagerPolicy(\n",
        "        agent.collect_policy, use_tf_function=True),\n",
        "    [rb_observer],\n",
        "    max_steps = collect_steps_per_iteration)"
      ],
      "metadata": {
        "id": "F-N-K2zSXNYa"
      },
      "execution_count": 27,
      "outputs": []
    },
    {
      "cell_type": "code",
      "source": [
        "for _ in range(num_iterations): # num_iteration만큼 학습 진행\n",
        "  time_step,_ = collect_driver.run(time_step) # collect_driver로 time_step 데이터 저장\n",
        "  experience, unused_info = next(iterator) # experience 저장\n",
        "  train_loss = agent.train(experience).loss # loss 계산\n",
        "  step = agent.train_step_counter.numpy() #step_횟수 추출\n",
        "\n",
        "  if step%log_interval == 0: #log 출력\n",
        "    print('step={0}:loss={1}'.format(step,train_loss))\n",
        "\n",
        "  if step%eval_interval == 0:#Average Return 중간 값 출력\n",
        "    avg_return = compute_avg_return(eval_env,agent.policy,num_eval_episodes)\n",
        "    print('step={0}: Average Return = {1}'.format(step,avg_return))\n",
        "    returns.append(avg_return)"
      ],
      "metadata": {
        "colab": {
          "base_uri": "https://localhost:8080/"
        },
        "id": "UtOuvoUcXNVs",
        "outputId": "d71fc12d-ae9c-451b-9c5f-04e8692e5f2f"
      },
      "execution_count": 28,
      "outputs": [
        {
          "output_type": "stream",
          "name": "stderr",
          "text": [
            "WARNING:tensorflow:From /usr/local/lib/python3.10/dist-packages/tensorflow/python/util/dispatch.py:1176: calling foldr_v2 (from tensorflow.python.ops.functional_ops) with back_prop=False is deprecated and will be removed in a future version.\n",
            "Instructions for updating:\n",
            "back_prop=False is deprecated. Consider using tf.stop_gradient instead.\n",
            "Instead of:\n",
            "results = tf.foldr(fn, elems, back_prop=False)\n",
            "Use:\n",
            "results = tf.nest.map_structure(tf.stop_gradient, tf.foldr(fn, elems))\n"
          ]
        },
        {
          "output_type": "stream",
          "name": "stdout",
          "text": [
            "step=200:loss=31.80306053161621\n",
            "step=400:loss=6.184028148651123\n",
            "step=600:loss=6.697829246520996\n",
            "step=800:loss=476.2547912597656\n",
            "step=1000:loss=299.0123596191406\n",
            "step=1000: Average Return = 80.9000015258789\n",
            "step=1200:loss=123.94188690185547\n",
            "step=1400:loss=128.4800567626953\n",
            "step=1600:loss=22.746545791625977\n",
            "step=1800:loss=34.31918716430664\n",
            "step=2000:loss=24.787948608398438\n",
            "step=2000: Average Return = 200.0\n",
            "step=2200:loss=29.481889724731445\n",
            "step=2400:loss=504.35467529296875\n",
            "step=2600:loss=28.287540435791016\n",
            "step=2800:loss=15.00159740447998\n",
            "step=3000:loss=24.677906036376953\n",
            "step=3000: Average Return = 200.0\n",
            "step=3200:loss=19.598806381225586\n",
            "step=3400:loss=54.7230339050293\n",
            "step=3600:loss=102.916015625\n",
            "step=3800:loss=386.015625\n",
            "step=4000:loss=87.99348449707031\n",
            "step=4000: Average Return = 200.0\n",
            "step=4200:loss=1288.1181640625\n",
            "step=4400:loss=281.3272705078125\n",
            "step=4600:loss=164.076416015625\n",
            "step=4800:loss=320.8453369140625\n",
            "step=5000:loss=10123.8564453125\n",
            "step=5000: Average Return = 200.0\n"
          ]
        }
      ]
    },
    {
      "cell_type": "markdown",
      "source": [
        "## 6) visualization"
      ],
      "metadata": {
        "id": "W2PLlEQH-iaK"
      }
    },
    {
      "cell_type": "code",
      "source": [
        "iterations = range(0,num_iterations+1,eval_interval)\n",
        "plt.plot(iterations,returns)\n",
        "plt.xlabel('iterations')\n",
        "plt.ylabel('returns')\n",
        "plt.ylim(top=250)\n",
        "# 대략 return이 33에서 200 정도 까지 상승함"
      ],
      "metadata": {
        "colab": {
          "base_uri": "https://localhost:8080/",
          "height": 473
        },
        "id": "6PARiC5TXNOT",
        "outputId": "2d572f39-b398-443b-feae-cc2c69b694f4"
      },
      "execution_count": 39,
      "outputs": [
        {
          "output_type": "execute_result",
          "data": {
            "text/plain": [
              "(33.575, 250.0)"
            ]
          },
          "metadata": {},
          "execution_count": 39
        },
        {
          "output_type": "display_data",
          "data": {
            "text/plain": [
              "<Figure size 640x480 with 1 Axes>"
            ],
            "image/png": "[encoded data removed]"
          },
          "metadata": {}
        }
      ]
    },
    {
      "cell_type": "code",
      "source": [
        "# Video enbed_mp4\n",
        "def embed_mp4(filename):\n",
        "  video = open(filename,'rb').read()\n",
        "  b64 = base64.b64encode(video)\n",
        "  tag = '''\n",
        "  <video width =\"640\" height = \"480\" controls>\n",
        "      <source src=\"data:video/mp4;base64,{0}\" type=\"video/mp4\">\n",
        "  Your browser does not support the video tag.\n",
        "  </video>'''.format(b64.decode())\n",
        "\n",
        "\n",
        "  return IPython.display.HTML(tag)"
      ],
      "metadata": {
        "id": "7aNn1kVX-l7k"
      },
      "execution_count": 29,
      "outputs": []
    },
    {
      "cell_type": "code",
      "source": [
        "# Agent CartPole Video Encoding\n",
        "def create_policy_eval_video(policy,filename,num_episodes=5,fps=30):\n",
        "  filename = filename+\".mp4\"\n",
        "  with imageio.get_writer(filename,fps=fps) as video:\n",
        "    for _ in range(num_episodes):\n",
        "      time_step = eval_env.reset()\n",
        "      video.append_data(eval_py_env.render())\n",
        "      while not time_step.is_last():\n",
        "        action_step = policy.action(time_step)\n",
        "        time_step = eval_env.step(action_step.action)\n",
        "        video.append_data(eval_py_env.render())\n",
        "  return embed_mp4(filename)"
      ],
      "metadata": {
        "id": "lzxKnjtB-l13"
      },
      "execution_count": 35,
      "outputs": []
    },
    {
      "cell_type": "code",
      "source": [
        "# 학습한 agent 비디오 임베딩\n",
        "create_policy_eval_video(agent.policy,\"trained-agent\")"
      ],
      "metadata": {
        "colab": {
          "base_uri": "https://localhost:8080/",
          "height": 539
        },
        "id": "GcnrcvcaAj8f",
        "outputId": "addbcbff-0a9e-46ce-951b-ecbfddfa2d69"
      },
      "execution_count": 36,
      "outputs": [
        {
          "output_type": "stream",
          "name": "stderr",
          "text": [
            "WARNING:root:IMAGEIO FFMPEG_WRITER WARNING: input image is not divisible by macro_block_size=16, resizing from (400, 600) to (400, 608) to ensure video compatibility with most codecs and players. To prevent resizing, make your input image divisible by the macro_block_size or set the macro_block_size to None (risking incompatibility). You may also see a FFMPEG warning concerning speedloss due to data not being aligned.\n"
          ]
        },
        {
          "output_type": "execute_result",
          "data": {
            "text/plain": [
              "<IPython.core.display.HTML object>"
            ],
            "text/html": [
              "\n",
              "  <video width =\"640\" height = \"480\" controls>\n",
              "      <source src=\"data:video/mp4;base64,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\" type=\"video/mp4\">\n",
              "  Your browser does not support the video tag.\n",
              "  </video>"
            ]
          },
          "metadata": {},
          "execution_count": 36
        }
      ]
    },
    {
      "cell_type": "code",
      "source": [
        "# Random_policy로 진행한 agent 임베딩 s\n",
        "create_policy_eval_video(random_policy,\"random-agent\")"
      ],
      "metadata": {
        "colab": {
          "base_uri": "https://localhost:8080/",
          "height": 539
        },
        "id": "J8DE8qg9Ajg2",
        "outputId": "d3874078-1779-49e4-bf24-e802c7bd2b7a"
      },
      "execution_count": 37,
      "outputs": [
        {
          "output_type": "stream",
          "name": "stderr",
          "text": [
            "WARNING:root:IMAGEIO FFMPEG_WRITER WARNING: input image is not divisible by macro_block_size=16, resizing from (400, 600) to (400, 608) to ensure video compatibility with most codecs and players. To prevent resizing, make your input image divisible by the macro_block_size or set the macro_block_size to None (risking incompatibility). You may also see a FFMPEG warning concerning speedloss due to data not being aligned.\n"
          ]
        },
        {
          "output_type": "execute_result",
          "data": {
            "text/plain": [
              "<IPython.core.display.HTML object>"
            ],
            "text/html": [
              "\n",
              "  <video width =\"640\" height = \"480\" controls>\n",
              "      <source src=\"data:video/mp4;base64,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\" type=\"video/mp4\">\n",
              "  Your browser does not support the video tag.\n",
              "  </video>"
            ]
          },
          "metadata": {},
          "execution_count": 37
        }
      ]
    }
  ]
}